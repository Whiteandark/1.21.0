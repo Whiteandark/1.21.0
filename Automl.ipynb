{
  "cells": [
    {
      "cell_type": "code",
      "source": [
        "# azureml-core of version 1.0.72 or higher is required\n",
        "# azureml-dataprep[pandas] of version 1.1.34 or higher is required\n",
        "from azureml.core import Workspace, Dataset\n",
        "\n",
        "subscription_id = 'aa7cf8e8-d23f-4bce-a7b9-1f0b4e0ac8ee'\n",
        "resource_group = 'aml-quickstarts-139876'\n",
        "workspace_name = 'quick-starts-ws-139876'\n",
        "\n",
        "workspace = Workspace(subscription_id, resource_group, workspace_name)\n",
        "\n",
        "dataset = Dataset.get_by_name(workspace, name='Nba-Dataset')\n",
        "dataset.to_pandas_dataframe()"
      ],
      "outputs": [
        {
          "output_type": "execute_result",
          "execution_count": 1,
          "data": {
            "text/html": "<div>\n<style scoped>\n    .dataframe tbody tr th:only-of-type {\n        vertical-align: middle;\n    }\n\n    .dataframe tbody tr th {\n        vertical-align: top;\n    }\n\n    .dataframe thead th {\n        text-align: right;\n    }\n</style>\n<table border=\"1\" class=\"dataframe\">\n  <thead>\n    <tr style=\"text-align: right;\">\n      <th></th>\n      <th>Column1</th>\n      <th>Rk</th>\n      <th>PLAYER</th>\n      <th>POSITION</th>\n      <th>AGE</th>\n      <th>MP</th>\n      <th>FG</th>\n      <th>FGA</th>\n      <th>FG%</th>\n      <th>3P</th>\n      <th>...</th>\n      <th>DRPM</th>\n      <th>RPM</th>\n      <th>WINS_RPM</th>\n      <th>PIE</th>\n      <th>PACE</th>\n      <th>W</th>\n      <th>SALARY_MILLIONS</th>\n      <th>PAGEVIEWS</th>\n      <th>TWITTER_FAVORITE_COUNT</th>\n      <th>TWITTER_RETWEET_COUNT</th>\n    </tr>\n  </thead>\n  <tbody>\n    <tr>\n      <th>0</th>\n      <td>0</td>\n      <td>1</td>\n      <td>Russell Westbrook</td>\n      <td>PG</td>\n      <td>28</td>\n      <td>34.6</td>\n      <td>10.2</td>\n      <td>24.0</td>\n      <td>0.425</td>\n      <td>2.5</td>\n      <td>...</td>\n      <td>-0.47</td>\n      <td>6.27</td>\n      <td>17.34</td>\n      <td>23.0</td>\n      <td>102.31</td>\n      <td>46</td>\n      <td>26.50</td>\n      <td>4279.0</td>\n      <td>2130.5</td>\n      <td>559.0</td>\n    </tr>\n    <tr>\n      <th>1</th>\n      <td>1</td>\n      <td>2</td>\n      <td>James Harden</td>\n      <td>PG</td>\n      <td>27</td>\n      <td>36.4</td>\n      <td>8.3</td>\n      <td>18.9</td>\n      <td>0.440</td>\n      <td>3.2</td>\n      <td>...</td>\n      <td>-1.57</td>\n      <td>4.81</td>\n      <td>15.54</td>\n      <td>19.0</td>\n      <td>102.98</td>\n      <td>54</td>\n      <td>26.50</td>\n      <td>3279.0</td>\n      <td>969.0</td>\n      <td>321.5</td>\n    </tr>\n    <tr>\n      <th>2</th>\n      <td>2</td>\n      <td>4</td>\n      <td>Anthony Davis</td>\n      <td>C</td>\n      <td>23</td>\n      <td>36.1</td>\n      <td>10.3</td>\n      <td>20.3</td>\n      <td>0.505</td>\n      <td>0.5</td>\n      <td>...</td>\n      <td>3.90</td>\n      <td>4.35</td>\n      <td>12.81</td>\n      <td>19.2</td>\n      <td>100.19</td>\n      <td>31</td>\n      <td>22.12</td>\n      <td>82.5</td>\n      <td>368.0</td>\n      <td>104.0</td>\n    </tr>\n    <tr>\n      <th>3</th>\n      <td>3</td>\n      <td>6</td>\n      <td>DeMarcus Cousins</td>\n      <td>C</td>\n      <td>26</td>\n      <td>34.2</td>\n      <td>9.0</td>\n      <td>19.9</td>\n      <td>0.452</td>\n      <td>1.8</td>\n      <td>...</td>\n      <td>0.64</td>\n      <td>4.20</td>\n      <td>11.26</td>\n      <td>17.8</td>\n      <td>97.11</td>\n      <td>30</td>\n      <td>16.96</td>\n      <td>1625.5</td>\n      <td>102.0</td>\n      <td>91.5</td>\n    </tr>\n    <tr>\n      <th>4</th>\n      <td>4</td>\n      <td>7</td>\n      <td>Damian Lillard</td>\n      <td>PG</td>\n      <td>26</td>\n      <td>35.9</td>\n      <td>8.8</td>\n      <td>19.8</td>\n      <td>0.444</td>\n      <td>2.9</td>\n      <td>...</td>\n      <td>-1.49</td>\n      <td>3.14</td>\n      <td>10.72</td>\n      <td>15.9</td>\n      <td>99.68</td>\n      <td>38</td>\n      <td>24.33</td>\n      <td>1830.5</td>\n      <td>186.5</td>\n      <td>43.0</td>\n    </tr>\n    <tr>\n      <th>...</th>\n      <td>...</td>\n      <td>...</td>\n      <td>...</td>\n      <td>...</td>\n      <td>...</td>\n      <td>...</td>\n      <td>...</td>\n      <td>...</td>\n      <td>...</td>\n      <td>...</td>\n      <td>...</td>\n      <td>...</td>\n      <td>...</td>\n      <td>...</td>\n      <td>...</td>\n      <td>...</td>\n      <td>...</td>\n      <td>...</td>\n      <td>...</td>\n      <td>...</td>\n      <td>...</td>\n    </tr>\n    <tr>\n      <th>234</th>\n      <td>234</td>\n      <td>455</td>\n      <td>Nick Collison</td>\n      <td>PF</td>\n      <td>36</td>\n      <td>6.4</td>\n      <td>0.7</td>\n      <td>1.2</td>\n      <td>0.609</td>\n      <td>0.0</td>\n      <td>...</td>\n      <td>1.12</td>\n      <td>-1.06</td>\n      <td>0.17</td>\n      <td>12.0</td>\n      <td>97.52</td>\n      <td>10</td>\n      <td>3.75</td>\n      <td>283.5</td>\n      <td>10.0</td>\n      <td>12.0</td>\n    </tr>\n    <tr>\n      <th>235</th>\n      <td>235</td>\n      <td>457</td>\n      <td>Bruno Caboclo</td>\n      <td>SF</td>\n      <td>21</td>\n      <td>4.4</td>\n      <td>0.7</td>\n      <td>1.8</td>\n      <td>0.375</td>\n      <td>0.2</td>\n      <td>...</td>\n      <td>0.11</td>\n      <td>-1.65</td>\n      <td>0.04</td>\n      <td>9.4</td>\n      <td>95.38</td>\n      <td>8</td>\n      <td>1.59</td>\n      <td>270.5</td>\n      <td>11.0</td>\n      <td>8.0</td>\n    </tr>\n    <tr>\n      <th>236</th>\n      <td>236</td>\n      <td>459</td>\n      <td>Ryan Kelly</td>\n      <td>PF</td>\n      <td>25</td>\n      <td>6.9</td>\n      <td>0.5</td>\n      <td>1.8</td>\n      <td>0.286</td>\n      <td>0.3</td>\n      <td>...</td>\n      <td>1.45</td>\n      <td>-0.49</td>\n      <td>0.08</td>\n      <td>7.3</td>\n      <td>96.26</td>\n      <td>6</td>\n      <td>1.58</td>\n      <td>23.0</td>\n      <td>17.0</td>\n      <td>10.0</td>\n    </tr>\n    <tr>\n      <th>237</th>\n      <td>237</td>\n      <td>460</td>\n      <td>Jordan Mickey</td>\n      <td>PF</td>\n      <td>22</td>\n      <td>5.6</td>\n      <td>0.6</td>\n      <td>1.4</td>\n      <td>0.441</td>\n      <td>0.0</td>\n      <td>...</td>\n      <td>-0.15</td>\n      <td>-2.77</td>\n      <td>0.03</td>\n      <td>6.0</td>\n      <td>97.66</td>\n      <td>9</td>\n      <td>1.47</td>\n      <td>129.5</td>\n      <td>0.0</td>\n      <td>3.0</td>\n    </tr>\n    <tr>\n      <th>238</th>\n      <td>238</td>\n      <td>475</td>\n      <td>Alonzo Gee</td>\n      <td>SF</td>\n      <td>29</td>\n      <td>6.8</td>\n      <td>0.2</td>\n      <td>1.1</td>\n      <td>0.214</td>\n      <td>0.0</td>\n      <td>...</td>\n      <td>0.43</td>\n      <td>-1.68</td>\n      <td>0.08</td>\n      <td>0.8</td>\n      <td>104.33</td>\n      <td>4</td>\n      <td>0.06</td>\n      <td>109.0</td>\n      <td>NaN</td>\n      <td>NaN</td>\n    </tr>\n  </tbody>\n</table>\n<p>239 rows × 42 columns</p>\n</div>",
            "text/plain": "     Column1   Rk             PLAYER POSITION  AGE    MP    FG   FGA    FG%  \\\n0          0    1  Russell Westbrook       PG   28  34.6  10.2  24.0  0.425   \n1          1    2       James Harden       PG   27  36.4   8.3  18.9  0.440   \n2          2    4      Anthony Davis        C   23  36.1  10.3  20.3  0.505   \n3          3    6   DeMarcus Cousins        C   26  34.2   9.0  19.9  0.452   \n4          4    7     Damian Lillard       PG   26  35.9   8.8  19.8  0.444   \n..       ...  ...                ...      ...  ...   ...   ...   ...    ...   \n234      234  455      Nick Collison       PF   36   6.4   0.7   1.2  0.609   \n235      235  457      Bruno Caboclo       SF   21   4.4   0.7   1.8  0.375   \n236      236  459         Ryan Kelly       PF   25   6.9   0.5   1.8  0.286   \n237      237  460      Jordan Mickey       PF   22   5.6   0.6   1.4  0.441   \n238      238  475         Alonzo Gee       SF   29   6.8   0.2   1.1  0.214   \n\n      3P  ...  DRPM   RPM  WINS_RPM   PIE    PACE   W  SALARY_MILLIONS  \\\n0    2.5  ... -0.47  6.27     17.34  23.0  102.31  46            26.50   \n1    3.2  ... -1.57  4.81     15.54  19.0  102.98  54            26.50   \n2    0.5  ...  3.90  4.35     12.81  19.2  100.19  31            22.12   \n3    1.8  ...  0.64  4.20     11.26  17.8   97.11  30            16.96   \n4    2.9  ... -1.49  3.14     10.72  15.9   99.68  38            24.33   \n..   ...  ...   ...   ...       ...   ...     ...  ..              ...   \n234  0.0  ...  1.12 -1.06      0.17  12.0   97.52  10             3.75   \n235  0.2  ...  0.11 -1.65      0.04   9.4   95.38   8             1.59   \n236  0.3  ...  1.45 -0.49      0.08   7.3   96.26   6             1.58   \n237  0.0  ... -0.15 -2.77      0.03   6.0   97.66   9             1.47   \n238  0.0  ...  0.43 -1.68      0.08   0.8  104.33   4             0.06   \n\n     PAGEVIEWS  TWITTER_FAVORITE_COUNT  TWITTER_RETWEET_COUNT  \n0       4279.0                  2130.5                  559.0  \n1       3279.0                   969.0                  321.5  \n2         82.5                   368.0                  104.0  \n3       1625.5                   102.0                   91.5  \n4       1830.5                   186.5                   43.0  \n..         ...                     ...                    ...  \n234      283.5                    10.0                   12.0  \n235      270.5                    11.0                    8.0  \n236       23.0                    17.0                   10.0  \n237      129.5                     0.0                    3.0  \n238      109.0                     NaN                    NaN  \n\n[239 rows x 42 columns]"
          },
          "metadata": {}
        }
      ],
      "execution_count": 1,
      "metadata": {}
    },
    {
      "cell_type": "code",
      "source": [
        "df = dataset.to_pandas_dataframe()\n",
        "df.head()"
      ],
      "outputs": [
        {
          "output_type": "execute_result",
          "execution_count": 3,
          "data": {
            "text/html": "<div>\n<style scoped>\n    .dataframe tbody tr th:only-of-type {\n        vertical-align: middle;\n    }\n\n    .dataframe tbody tr th {\n        vertical-align: top;\n    }\n\n    .dataframe thead th {\n        text-align: right;\n    }\n</style>\n<table border=\"1\" class=\"dataframe\">\n  <thead>\n    <tr style=\"text-align: right;\">\n      <th></th>\n      <th>Column1</th>\n      <th>Rk</th>\n      <th>PLAYER</th>\n      <th>POSITION</th>\n      <th>AGE</th>\n      <th>MP</th>\n      <th>FG</th>\n      <th>FGA</th>\n      <th>FG%</th>\n      <th>3P</th>\n      <th>...</th>\n      <th>DRPM</th>\n      <th>RPM</th>\n      <th>WINS_RPM</th>\n      <th>PIE</th>\n      <th>PACE</th>\n      <th>W</th>\n      <th>SALARY_MILLIONS</th>\n      <th>PAGEVIEWS</th>\n      <th>TWITTER_FAVORITE_COUNT</th>\n      <th>TWITTER_RETWEET_COUNT</th>\n    </tr>\n  </thead>\n  <tbody>\n    <tr>\n      <th>0</th>\n      <td>0</td>\n      <td>1</td>\n      <td>Russell Westbrook</td>\n      <td>PG</td>\n      <td>28</td>\n      <td>34.6</td>\n      <td>10.2</td>\n      <td>24.0</td>\n      <td>0.425</td>\n      <td>2.5</td>\n      <td>...</td>\n      <td>-0.47</td>\n      <td>6.27</td>\n      <td>17.34</td>\n      <td>23.0</td>\n      <td>102.31</td>\n      <td>46</td>\n      <td>26.50</td>\n      <td>4279.0</td>\n      <td>2130.5</td>\n      <td>559.0</td>\n    </tr>\n    <tr>\n      <th>1</th>\n      <td>1</td>\n      <td>2</td>\n      <td>James Harden</td>\n      <td>PG</td>\n      <td>27</td>\n      <td>36.4</td>\n      <td>8.3</td>\n      <td>18.9</td>\n      <td>0.440</td>\n      <td>3.2</td>\n      <td>...</td>\n      <td>-1.57</td>\n      <td>4.81</td>\n      <td>15.54</td>\n      <td>19.0</td>\n      <td>102.98</td>\n      <td>54</td>\n      <td>26.50</td>\n      <td>3279.0</td>\n      <td>969.0</td>\n      <td>321.5</td>\n    </tr>\n    <tr>\n      <th>2</th>\n      <td>2</td>\n      <td>4</td>\n      <td>Anthony Davis</td>\n      <td>C</td>\n      <td>23</td>\n      <td>36.1</td>\n      <td>10.3</td>\n      <td>20.3</td>\n      <td>0.505</td>\n      <td>0.5</td>\n      <td>...</td>\n      <td>3.90</td>\n      <td>4.35</td>\n      <td>12.81</td>\n      <td>19.2</td>\n      <td>100.19</td>\n      <td>31</td>\n      <td>22.12</td>\n      <td>82.5</td>\n      <td>368.0</td>\n      <td>104.0</td>\n    </tr>\n    <tr>\n      <th>3</th>\n      <td>3</td>\n      <td>6</td>\n      <td>DeMarcus Cousins</td>\n      <td>C</td>\n      <td>26</td>\n      <td>34.2</td>\n      <td>9.0</td>\n      <td>19.9</td>\n      <td>0.452</td>\n      <td>1.8</td>\n      <td>...</td>\n      <td>0.64</td>\n      <td>4.20</td>\n      <td>11.26</td>\n      <td>17.8</td>\n      <td>97.11</td>\n      <td>30</td>\n      <td>16.96</td>\n      <td>1625.5</td>\n      <td>102.0</td>\n      <td>91.5</td>\n    </tr>\n    <tr>\n      <th>4</th>\n      <td>4</td>\n      <td>7</td>\n      <td>Damian Lillard</td>\n      <td>PG</td>\n      <td>26</td>\n      <td>35.9</td>\n      <td>8.8</td>\n      <td>19.8</td>\n      <td>0.444</td>\n      <td>2.9</td>\n      <td>...</td>\n      <td>-1.49</td>\n      <td>3.14</td>\n      <td>10.72</td>\n      <td>15.9</td>\n      <td>99.68</td>\n      <td>38</td>\n      <td>24.33</td>\n      <td>1830.5</td>\n      <td>186.5</td>\n      <td>43.0</td>\n    </tr>\n  </tbody>\n</table>\n<p>5 rows × 42 columns</p>\n</div>",
            "text/plain": "   Column1  Rk             PLAYER POSITION  AGE    MP    FG   FGA    FG%   3P  \\\n0        0   1  Russell Westbrook       PG   28  34.6  10.2  24.0  0.425  2.5   \n1        1   2       James Harden       PG   27  36.4   8.3  18.9  0.440  3.2   \n2        2   4      Anthony Davis        C   23  36.1  10.3  20.3  0.505  0.5   \n3        3   6   DeMarcus Cousins        C   26  34.2   9.0  19.9  0.452  1.8   \n4        4   7     Damian Lillard       PG   26  35.9   8.8  19.8  0.444  2.9   \n\n   ...  DRPM   RPM  WINS_RPM   PIE    PACE   W  SALARY_MILLIONS  PAGEVIEWS  \\\n0  ... -0.47  6.27     17.34  23.0  102.31  46            26.50     4279.0   \n1  ... -1.57  4.81     15.54  19.0  102.98  54            26.50     3279.0   \n2  ...  3.90  4.35     12.81  19.2  100.19  31            22.12       82.5   \n3  ...  0.64  4.20     11.26  17.8   97.11  30            16.96     1625.5   \n4  ... -1.49  3.14     10.72  15.9   99.68  38            24.33     1830.5   \n\n   TWITTER_FAVORITE_COUNT  TWITTER_RETWEET_COUNT  \n0                  2130.5                  559.0  \n1                   969.0                  321.5  \n2                   368.0                  104.0  \n3                   102.0                   91.5  \n4                   186.5                   43.0  \n\n[5 rows x 42 columns]"
          },
          "metadata": {}
        }
      ],
      "execution_count": 3,
      "metadata": {}
    },
    {
      "cell_type": "markdown",
      "source": [
        "## Create Experiment"
      ],
      "metadata": {}
    },
    {
      "cell_type": "markdown",
      "source": [
        "#### Create experiment in Workspace"
      ],
      "metadata": {}
    },
    {
      "cell_type": "code",
      "source": [
        "from azureml.core.experiment import Experiment\n",
        "from azureml.core.workspace import Workspace\n",
        "import pandas as pd\n",
        "\n",
        "ws = Workspace.from_config()\n",
        "\n",
        "# choose a name for experiment\n",
        "experiment_name = 'automl-nba-position'\n",
        "\n",
        "experiment=Experiment(ws, experiment_name)\n",
        "\n",
        "output = {}\n",
        "output['Subscription ID'] = ws.subscription_id\n",
        "output['Workspace'] = ws.name\n",
        "output['Resource Group'] = ws.resource_group\n",
        "output['Location'] = ws.location\n",
        "output['Experiment Name'] = experiment.name\n",
        "pd.set_option('display.max_colwidth', -1)\n",
        "outputDf = pd.DataFrame(data = output, index = [''])\n",
        "outputDf.T"
      ],
      "outputs": [
        {
          "output_type": "execute_result",
          "execution_count": 4,
          "data": {
            "text/html": "<div>\n<style scoped>\n    .dataframe tbody tr th:only-of-type {\n        vertical-align: middle;\n    }\n\n    .dataframe tbody tr th {\n        vertical-align: top;\n    }\n\n    .dataframe thead th {\n        text-align: right;\n    }\n</style>\n<table border=\"1\" class=\"dataframe\">\n  <thead>\n    <tr style=\"text-align: right;\">\n      <th></th>\n      <th></th>\n    </tr>\n  </thead>\n  <tbody>\n    <tr>\n      <th>Subscription ID</th>\n      <td>aa7cf8e8-d23f-4bce-a7b9-1f0b4e0ac8ee</td>\n    </tr>\n    <tr>\n      <th>Workspace</th>\n      <td>quick-starts-ws-139876</td>\n    </tr>\n    <tr>\n      <th>Resource Group</th>\n      <td>aml-quickstarts-139876</td>\n    </tr>\n    <tr>\n      <th>Location</th>\n      <td>southcentralus</td>\n    </tr>\n    <tr>\n      <th>Experiment Name</th>\n      <td>automl-nba-position</td>\n    </tr>\n  </tbody>\n</table>\n</div>",
            "text/plain": "                                                     \nSubscription ID  aa7cf8e8-d23f-4bce-a7b9-1f0b4e0ac8ee\nWorkspace        quick-starts-ws-139876              \nResource Group   aml-quickstarts-139876              \nLocation         southcentralus                      \nExperiment Name  automl-nba-position                 "
          },
          "metadata": {}
        }
      ],
      "execution_count": 4,
      "metadata": {}
    },
    {
      "cell_type": "markdown",
      "source": [
        "#### Compute Target"
      ],
      "metadata": {}
    },
    {
      "cell_type": "code",
      "source": [
        "from azureml.core.compute import ComputeTarget, AmlCompute\n",
        "from azureml.core.compute_target import ComputeTargetException\n",
        "\n",
        "# Choose a name for your CPU cluster\n",
        "cpu_cluster_name = \"auto-ml\"\n",
        "\n",
        "# Verify that cluster does not exist already\n",
        "try:\n",
        "    compute_target = ComputeTarget(workspace=ws, name=cpu_cluster_name)\n",
        "    print('Found existing cluster, use it.')\n",
        "except ComputeTargetException:\n",
        "    compute_config = AmlCompute.provisioning_configuration(vm_size='STANDARD_D2_V2',\n",
        "                                                           max_nodes=6)\n",
        "    compute_target = ComputeTarget.create(ws, cpu_cluster_name, compute_config)\n",
        "\n",
        "compute_target.wait_for_completion(show_output=True)"
      ],
      "outputs": [
        {
          "output_type": "stream",
          "name": "stdout",
          "text": [
            "Found existing cluster, use it.\n",
            "Succeeded\n",
            "AmlCompute wait for completion finished\n",
            "\n",
            "Minimum number of nodes requested have been provisioned\n"
          ]
        }
      ],
      "execution_count": 5,
      "metadata": {}
    },
    {
      "cell_type": "markdown",
      "source": [
        "#### Run AutoML Config"
      ],
      "metadata": {}
    },
    {
      "cell_type": "code",
      "source": [
        "from azureml.train.automl import AutoMLConfig\n",
        "automl_settings = {\n",
        "    \"experiment_timeout_hours\" : 0.3,\n",
        "    \"enable_early_stopping\" : True,\n",
        "    \"iteration_timeout_minutes\": 5,\n",
        "    \"max_concurrent_iterations\": 4,\n",
        "    \"max_cores_per_iteration\": -1,\n",
        "    #\"n_cross_validations\": 2,\n",
        "    \"primary_metric\": 'AUC_weighted',\n",
        "    \"featurization\": 'auto',\n",
        "    \"verbosity\": logging.INFO,\n",
        "}\n",
        "\n",
        "automl_config = AutoMLConfig(task = 'classification',\n",
        "                             debug_log = 'automl_errors.log',\n",
        "                             compute_target=compute_target,\n",
        "                             experiment_exit_score = 0.9984,\n",
        "                             blocked_models = ['KNN','LinearSVM'],\n",
        "                             enable_onnx_compatible_models=True,\n",
        "                             training_data = dataset,\n",
        "                             label_column_name ='POSITION',\n",
        "                             **automl_settings\n",
        "                            )"
      ],
      "outputs": [],
      "execution_count": 6,
      "metadata": {}
    },
    {
      "cell_type": "code",
      "source": [
        "remote_run = experiment.submit(automl_config, show_output = False)"
      ],
      "outputs": [
        {
          "output_type": "stream",
          "name": "stdout",
          "text": [
            "Running on remote.\n"
          ]
        }
      ],
      "execution_count": 7,
      "metadata": {}
    },
    {
      "cell_type": "code",
      "source": [],
      "outputs": [],
      "execution_count": null,
      "metadata": {}
    }
  ],
  "metadata": {
    "kernelspec": {
      "name": "python3-azureml",
      "language": "python",
      "display_name": "Python 3.6 - AzureML"
    },
    "language_info": {
      "name": "python",
      "version": "3.6.9",
      "mimetype": "text/x-python",
      "codemirror_mode": {
        "name": "ipython",
        "version": 3
      },
      "pygments_lexer": "ipython3",
      "nbconvert_exporter": "python",
      "file_extension": ".py"
    },
    "kernel_info": {
      "name": "python3-azureml"
    },
    "nteract": {
      "version": "nteract-front-end@1.0.0"
    }
  },
  "nbformat": 4,
  "nbformat_minor": 4
}